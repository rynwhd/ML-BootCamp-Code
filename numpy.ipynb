{
 "cells": [
  {
   "cell_type": "code",
   "execution_count": 1,
   "id": "c4482470",
   "metadata": {},
   "outputs": [
    {
     "data": {
      "text/plain": [
       "[1, 2, 3, 4]"
      ]
     },
     "execution_count": 1,
     "metadata": {},
     "output_type": "execute_result"
    }
   ],
   "source": [
    "mylist_1=[1,2,3,4]\n",
    "mylist_1"
   ]
  },
  {
   "cell_type": "code",
   "execution_count": 19,
   "id": "2479250c",
   "metadata": {},
   "outputs": [
    {
     "data": {
      "text/plain": [
       "505"
      ]
     },
     "execution_count": 19,
     "metadata": {},
     "output_type": "execute_result"
    }
   ],
   "source": [
    "import numpy as np\n",
    "arr=np.array(mylist_1)\n",
    "mylist_2=[[1,2,3],[4,5,6],[7,8,9]]\n",
    "arr2=np.array(mylist_2)\n",
    "arr2\n",
    "arr3=np.arange(0,11,2)\n",
    "arr3\n",
    "arr4=np.zeros((2,3))\n",
    "arr4\n",
    "np.linspace(0,5,10)\n",
    "np.eye(5)\n",
    "np.random.randn(5)\n",
    "np.random.randint(1,1000)"
   ]
  },
  {
   "cell_type": "code",
   "execution_count": 25,
   "id": "467e3ac1",
   "metadata": {},
   "outputs": [
    {
     "data": {
      "text/plain": [
       "8"
      ]
     },
     "execution_count": 25,
     "metadata": {},
     "output_type": "execute_result"
    }
   ],
   "source": [
    "x=np.arange(15)\n",
    "y=np.random.randint(0,50,10)\n",
    "x,y\n",
    "x.reshape(3,5)\n",
    "y.max()\n",
    "y.min()\n",
    "y.argmax() "
   ]
  },
  {
   "cell_type": "code",
   "execution_count": 29,
   "id": "dee12dab",
   "metadata": {},
   "outputs": [
    {
     "data": {
      "text/plain": [
       "array([[ 0,  1,  2],\n",
       "       [ 5,  6,  7],\n",
       "       [10, 11, 12]])"
      ]
     },
     "execution_count": 29,
     "metadata": {},
     "output_type": "execute_result"
    }
   ],
   "source": [
    "arrx=np.arange(0,11)\n",
    "slice_of_arr=arrx[0:6]\n",
    "slice_of_arr[:]=99\n",
    "arrx\n",
    "arry=np.arange(0,25)\n",
    "arry=arry.reshape(5,5)\n",
    "arry[:3,:3]"
   ]
  },
  {
   "cell_type": "code",
   "execution_count": 32,
   "id": "3c88a5dd",
   "metadata": {},
   "outputs": [
    {
     "data": {
      "text/plain": [
       "array([-0.23907184,  1.06742557,  0.10094284,  1.48276675,  0.74147038])"
      ]
     },
     "execution_count": 32,
     "metadata": {},
     "output_type": "execute_result"
    }
   ],
   "source": [
    "np.random.randn(5)"
   ]
  }
 ],
 "metadata": {
  "kernelspec": {
   "display_name": "Python 3 (ipykernel)",
   "language": "python",
   "name": "python3"
  },
  "language_info": {
   "codemirror_mode": {
    "name": "ipython",
    "version": 3
   },
   "file_extension": ".py",
   "mimetype": "text/x-python",
   "name": "python",
   "nbconvert_exporter": "python",
   "pygments_lexer": "ipython3",
   "version": "3.9.6"
  }
 },
 "nbformat": 4,
 "nbformat_minor": 5
}
